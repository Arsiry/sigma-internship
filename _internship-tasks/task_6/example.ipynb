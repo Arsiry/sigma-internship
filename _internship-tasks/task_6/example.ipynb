{
 "cells": [
  {
   "cell_type": "markdown",
   "metadata": {},
   "source": [
    "### Create Spark Session"
   ]
  },
  {
   "cell_type": "code",
   "execution_count": 1,
   "metadata": {},
   "outputs": [
    {
     "name": "stdout",
     "output_type": "stream",
     "text": [
      ":: loading settings :: url = jar:file:/Library/Frameworks/Python.framework/Versions/3.12/lib/python3.12/site-packages/pyspark/jars/ivy-2.5.1.jar!/org/apache/ivy/core/settings/ivysettings.xml\n"
     ]
    },
    {
     "name": "stderr",
     "output_type": "stream",
     "text": [
      "Ivy Default Cache set to: /Users/anastasiiatrofymova/.ivy2/cache\n",
      "The jars for the packages stored in: /Users/anastasiiatrofymova/.ivy2/jars\n",
      "io.delta#delta-spark_2.12 added as a dependency\n",
      ":: resolving dependencies :: org.apache.spark#spark-submit-parent-91a8b7f6-08c0-423d-a4f2-7b9aab22dbc8;1.0\n",
      "\tconfs: [default]\n",
      "\tfound io.delta#delta-spark_2.12;3.2.0 in central\n",
      "\tfound io.delta#delta-storage;3.2.0 in central\n",
      "\tfound org.antlr#antlr4-runtime;4.9.3 in central\n",
      ":: resolution report :: resolve 176ms :: artifacts dl 7ms\n",
      "\t:: modules in use:\n",
      "\tio.delta#delta-spark_2.12;3.2.0 from central in [default]\n",
      "\tio.delta#delta-storage;3.2.0 from central in [default]\n",
      "\torg.antlr#antlr4-runtime;4.9.3 from central in [default]\n",
      "\t---------------------------------------------------------------------\n",
      "\t|                  |            modules            ||   artifacts   |\n",
      "\t|       conf       | number| search|dwnlded|evicted|| number|dwnlded|\n",
      "\t---------------------------------------------------------------------\n",
      "\t|      default     |   3   |   0   |   0   |   0   ||   3   |   0   |\n",
      "\t---------------------------------------------------------------------\n",
      ":: retrieving :: org.apache.spark#spark-submit-parent-91a8b7f6-08c0-423d-a4f2-7b9aab22dbc8\n",
      "\tconfs: [default]\n",
      "\t0 artifacts copied, 3 already retrieved (0kB/5ms)\n",
      "24/09/02 19:38:52 WARN NativeCodeLoader: Unable to load native-hadoop library for your platform... using builtin-java classes where applicable\n",
      "Setting default log level to \"WARN\".\n",
      "To adjust logging level use sc.setLogLevel(newLevel). For SparkR, use setLogLevel(newLevel).\n"
     ]
    }
   ],
   "source": [
    "from pyspark.sql import SparkSession\n",
    "from delta import *\n",
    "\n",
    "# Initialize Spark session\n",
    "builder = SparkSession.builder \\\n",
    "    .appName(\"Delta Table Example\") \\\n",
    "    .master(\"local[*]\") \\\n",
    "    .config(\"spark.sql.extensions\", \"io.delta.sql.DeltaSparkSessionExtension\") \\\n",
    "    .config(\"spark.sql.catalog.spark_catalog\", \"org.apache.spark.sql.delta.catalog.DeltaCatalog\")\n",
    "\n",
    "spark = configure_spark_with_delta_pip(builder).getOrCreate()"
   ]
  },
  {
   "cell_type": "markdown",
   "metadata": {},
   "source": [
    "### Create a Delta Table or Load a CSV"
   ]
  },
  {
   "cell_type": "code",
   "execution_count": 2,
   "metadata": {},
   "outputs": [],
   "source": [
    "from pyspark.sql.types import StructType, StructField, IntegerType, StringType, FloatType"
   ]
  },
  {
   "cell_type": "code",
   "execution_count": 3,
   "metadata": {},
   "outputs": [],
   "source": [
    "# Sample Data\n",
    "data = [\n",
    "    (1, \"2024-09-01\", \"Product A\", 100, 20.0),\n",
    "    (2, \"2024-09-01\", \"Product B\", 200, 30.0),\n",
    "    (3, \"2024-09-01\", \"Product A\", 150, 15.0),\n",
    "    (4, \"2024-09-02\", \"Product B\", 300, 25.0),\n",
    "    (5, \"2024-09-02\", \"Product A\", 200, 20.0)\n",
    "]\n",
    "\n",
    "# Schema\n",
    "schema = StructType([\n",
    "    StructField(\"id\", IntegerType(), True),\n",
    "    StructField(\"date\", StringType(), True),\n",
    "    StructField(\"product\", StringType(), True),\n",
    "    StructField(\"quantity\", IntegerType(), True),\n",
    "    StructField(\"price\", FloatType(), True)\n",
    "])\n",
    "\n",
    "df = spark.createDataFrame(data, schema)"
   ]
  },
  {
   "cell_type": "code",
   "execution_count": 4,
   "metadata": {},
   "outputs": [
    {
     "name": "stderr",
     "output_type": "stream",
     "text": [
      "24/09/02 19:39:01 WARN SparkStringUtils: Truncated the string representation of a plan since it was too large. This behavior can be adjusted by setting 'spark.sql.debug.maxToStringFields'.\n",
      "24/09/02 19:39:06 WARN GarbageCollectionMetrics: To enable non-built-in garbage collector(s) List(G1 Concurrent GC), users should configure it(them) to spark.eventLog.gcMetrics.youngGenerationGarbageCollectors or spark.eventLog.gcMetrics.oldGenerationGarbageCollectors\n",
      "                                                                                \r"
     ]
    },
    {
     "name": "stdout",
     "output_type": "stream",
     "text": [
      "+---+----------+---------+--------+-----+\n",
      "| id|      date|  product|quantity|price|\n",
      "+---+----------+---------+--------+-----+\n",
      "|  2|2024-09-01|Product B|     200| 30.0|\n",
      "|  5|2024-09-02|Product A|     200| 20.0|\n",
      "|  1|2024-09-01|Product A|     100| 20.0|\n",
      "|  3|2024-09-01|Product A|     150| 15.0|\n",
      "|  4|2024-09-02|Product B|     300| 25.0|\n",
      "+---+----------+---------+--------+-----+\n",
      "\n"
     ]
    }
   ],
   "source": [
    "# Write DataFrame as Delta table\n",
    "df.write.format(\"delta\").mode(\"overwrite\").save(\"data/sales_delta_table\")\n",
    "\n",
    "# Load Delta table\n",
    "delta_df = spark.read.format(\"delta\").load(\"data/sales_delta_table\")\n",
    "delta_df.show()"
   ]
  },
  {
   "cell_type": "markdown",
   "metadata": {},
   "source": [
    "### Data Transformation Pipeline"
   ]
  },
  {
   "cell_type": "code",
   "execution_count": 5,
   "metadata": {},
   "outputs": [
    {
     "name": "stdout",
     "output_type": "stream",
     "text": [
      "+---------+--------------+\n",
      "|  product|total_quantity|\n",
      "+---------+--------------+\n",
      "|Product B|           500|\n",
      "|Product A|           450|\n",
      "+---------+--------------+\n",
      "\n",
      "+---------+------------------+\n",
      "|  product|         avg_price|\n",
      "+---------+------------------+\n",
      "|Product B|              27.5|\n",
      "|Product A|18.333333333333332|\n",
      "+---------+------------------+\n",
      "\n",
      "+---------+-------------+\n",
      "|  product|total_revenue|\n",
      "+---------+-------------+\n",
      "|Product B|      13500.0|\n",
      "|Product A|       8250.0|\n",
      "+---------+-------------+\n",
      "\n",
      "+---------+--------------+\n",
      "|  product|total_quantity|\n",
      "+---------+--------------+\n",
      "|Product B|           500|\n",
      "|Product A|           450|\n",
      "+---------+--------------+\n",
      "\n"
     ]
    }
   ],
   "source": [
    "from pyspark.sql import functions as F\n",
    "\n",
    "# 1. Aggregate: Total Quantity Sold per Product\n",
    "total_quantity_df = delta_df.groupBy(\"product\").agg(F.sum(\"quantity\").alias(\"total_quantity\"))\n",
    "total_quantity_df.show()\n",
    "\n",
    "# 2. Aggregate: Average Price per Product\n",
    "avg_price_df = delta_df.groupBy(\"product\").agg(F.avg(\"price\").alias(\"avg_price\"))\n",
    "avg_price_df.show()\n",
    "\n",
    "# 3. Aggregate: Total Revenue per Product\n",
    "revenue_df = delta_df.withColumn(\"revenue\", F.col(\"quantity\") * F.col(\"price\"))\n",
    "total_revenue_df = revenue_df.groupBy(\"product\").agg(F.sum(\"revenue\").alias(\"total_revenue\"))\n",
    "total_revenue_df.show()\n",
    "\n",
    "# Filter: Products with Total Quantity > 200\n",
    "filtered_df = total_quantity_df.filter(F.col(\"total_quantity\") > 200)\n",
    "filtered_df.show()"
   ]
  },
  {
   "cell_type": "markdown",
   "metadata": {},
   "source": [
    "### Write the Transformed Data"
   ]
  },
  {
   "cell_type": "code",
   "execution_count": 9,
   "metadata": {},
   "outputs": [],
   "source": [
    "# Save as Delta table\n",
    "filtered_df.write.format(\"delta\").mode(\"overwrite\").save(\"data/filteres_sales_delta_table\")\n"
   ]
  },
  {
   "cell_type": "markdown",
   "metadata": {},
   "source": [
    "### Read the Final Output"
   ]
  },
  {
   "cell_type": "code",
   "execution_count": 10,
   "metadata": {},
   "outputs": [
    {
     "name": "stdout",
     "output_type": "stream",
     "text": [
      "+---------+--------------+\n",
      "|  product|total_quantity|\n",
      "+---------+--------------+\n",
      "|Product B|           500|\n",
      "|Product A|           450|\n",
      "+---------+--------------+\n",
      "\n"
     ]
    }
   ],
   "source": [
    "# Load Delta table\n",
    "final_df = spark.read.format(\"delta\").load(\"data/filteres_sales_delta_table\")\n",
    "final_df.show()"
   ]
  },
  {
   "cell_type": "code",
   "execution_count": null,
   "metadata": {},
   "outputs": [],
   "source": []
  }
 ],
 "metadata": {
  "kernelspec": {
   "display_name": "Python 3",
   "language": "python",
   "name": "python3"
  },
  "language_info": {
   "codemirror_mode": {
    "name": "ipython",
    "version": 3
   },
   "file_extension": ".py",
   "mimetype": "text/x-python",
   "name": "python",
   "nbconvert_exporter": "python",
   "pygments_lexer": "ipython3",
   "version": "3.12.4"
  }
 },
 "nbformat": 4,
 "nbformat_minor": 2
}
