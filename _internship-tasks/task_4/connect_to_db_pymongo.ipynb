{
 "cells": [
  {
   "cell_type": "code",
   "execution_count": 1,
   "metadata": {},
   "outputs": [],
   "source": [
    "from pymongo import MongoClient"
   ]
  },
  {
   "cell_type": "code",
   "execution_count": 2,
   "metadata": {},
   "outputs": [],
   "source": [
    "# Replace \"localhost\" and \"27017\" with your MongoDB host and port if different\n",
    "client = MongoClient(\"mongodb://localhost:27017/\")"
   ]
  },
  {
   "cell_type": "code",
   "execution_count": 3,
   "metadata": {},
   "outputs": [],
   "source": [
    "# Connect to a specific database\n",
    "db = client[\"adtech\"]"
   ]
  },
  {
   "cell_type": "code",
   "execution_count": 4,
   "metadata": {},
   "outputs": [],
   "source": [
    "# Access a collection (like a table in relational databases)\n",
    "collection1 = db[\"impressions\"]"
   ]
  },
  {
   "cell_type": "code",
   "execution_count": 5,
   "metadata": {},
   "outputs": [
    {
     "name": "stdout",
     "output_type": "stream",
     "text": [
      "Total clicks: 10862\n"
     ]
    }
   ],
   "source": [
    "count_clicks = collection1.count_documents({\"is_click\": 1})\n",
    "print(f\"Total clicks: {count_clicks}\")"
   ]
  },
  {
   "cell_type": "code",
   "execution_count": 6,
   "metadata": {},
   "outputs": [
    {
     "name": "stdout",
     "output_type": "stream",
     "text": [
      "Distinct OS Versions: ['intermediate', 'latest', 'old']\n"
     ]
    }
   ],
   "source": [
    "distinct_os_versions = collection1.distinct(\"os_version\")\n",
    "print(f\"Distinct OS Versions: {distinct_os_versions}\")"
   ]
  },
  {
   "cell_type": "code",
   "execution_count": 7,
   "metadata": {},
   "outputs": [
    {
     "name": "stdout",
     "output_type": "stream",
     "text": [
      "OS Version: old, Clicks: 1896\n",
      "OS Version: latest, Clicks: 3201\n",
      "OS Version: intermediate, Clicks: 1923\n"
     ]
    }
   ],
   "source": [
    "pipeline = [\n",
    "    {\"$match\": {\"is_4G\": 0}}, \n",
    "    {\"$group\": {\"_id\": \"$os_version\", \"countClick\": {\"$sum\": \"$is_click\"}}}\n",
    "]\n",
    "result = collection1.aggregate(pipeline)\n",
    "for doc in result:\n",
    "    print(f\"OS Version: {doc['_id']}, Clicks: {doc['countClick']}\")"
   ]
  },
  {
   "cell_type": "code",
   "execution_count": 13,
   "metadata": {},
   "outputs": [
    {
     "name": "stdout",
     "output_type": "stream",
     "text": [
      "App Code: 508, Clicks: 132\n",
      "App Code: 504, Clicks: 47\n",
      "App Code: 509, Clicks: 27\n",
      "App Code: 512, Clicks: 23\n",
      "App Code: 507, Clicks: 14\n",
      "App Code: 522, Clicks: 6\n",
      "App Code: 503, Clicks: 5\n",
      "App Code: 505, Clicks: 4\n",
      "App Code: 514, Clicks: 4\n",
      "App Code: 513, Clicks: 3\n",
      "App Code: 521, Clicks: 2\n",
      "App Code: 517, Clicks: 1\n",
      "App Code: 519, Clicks: 1\n",
      "App Code: 520, Clicks: 1\n",
      "App Code: 518, Clicks: 0\n",
      "App Code: 510, Clicks: 0\n",
      "App Code: 516, Clicks: 0\n",
      "App Code: 515, Clicks: 0\n",
      "App Code: 502, Clicks: 0\n",
      "App Code: 506, Clicks: 0\n"
     ]
    }
   ],
   "source": [
    "pipeline = [\n",
    "    {\"$match\": {\"app_code\": {\"$gt\": 500}}},  \n",
    "    {\"$group\": {\"_id\": \"$app_code\", \"countClick\": {\"$sum\": \"$is_click\"}}},\n",
    "    {\"$sort\": {\"countClick\": -1}}  # Sort by countClick in descending order\n",
    "]\n",
    "\n",
    "result = collection1.aggregate(pipeline)\n",
    "\n",
    "for doc in result:\n",
    "    print(f\"App Code: {doc['_id']}, Clicks: {doc['countClick']}\")"
   ]
  },
  {
   "cell_type": "code",
   "execution_count": 15,
   "metadata": {},
   "outputs": [
    {
     "name": "stdout",
     "output_type": "stream",
     "text": [
      "User ID: 37747, Count of Clicks: 10\n",
      "User ID: 90953, Count of Clicks: 10\n",
      "User ID: 52737, Count of Clicks: 10\n",
      "User ID: 64389, Count of Clicks: 10\n",
      "User ID: 3364, Count of Clicks: 10\n"
     ]
    }
   ],
   "source": [
    "pipeline = [\n",
    "    {\n",
    "        \"$group\": {\n",
    "            \"_id\": \"$user_id\",  # Group by user_id\n",
    "            \"CountOfClick\": {\n",
    "                \"$sum\": \"$is_click\"  # Sum is_click values for each user_id\n",
    "            }\n",
    "        }\n",
    "    },\n",
    "    {\n",
    "        \"$match\": {\n",
    "            \"CountOfClick\": 10  # Filter for CountOfClick equal to 5\n",
    "        }\n",
    "    }\n",
    "]\n",
    "\n",
    "result = collection1.aggregate(pipeline)\n",
    "\n",
    "for doc in result:\n",
    "    print(f\"User ID: {doc['_id']}, Count of Clicks: {doc['CountOfClick']}\")"
   ]
  },
  {
   "cell_type": "code",
   "execution_count": 16,
   "metadata": {},
   "outputs": [],
   "source": [
    "# Access a collection (like a table in relational databases)\n",
    "collection2 = db[\"viewlog\"]"
   ]
  },
  {
   "cell_type": "code",
   "execution_count": 32,
   "metadata": {},
   "outputs": [
    {
     "name": "stdout",
     "output_type": "stream",
     "text": [
      "{'_id': ObjectId('66f339bb0b5d4df30046ddd8'), 'server_time': datetime.datetime(2018, 11, 17, 21, 15), 'device_type': 'android', 'session_id': 699238, 'user_id': 111, 'item_id': 132864}\n",
      "{'_id': ObjectId('66f339730b5d4df3002f3d78'), 'server_time': datetime.datetime(2018, 10, 19, 0, 5), 'device_type': 'android', 'session_id': 692656, 'user_id': 131, 'item_id': 132865}\n",
      "{'_id': ObjectId('66f339830b5d4df30034a049'), 'server_time': datetime.datetime(2018, 10, 26, 5, 48), 'device_type': 'android', 'session_id': 103223, 'user_id': 5822, 'item_id': 132863}\n",
      "{'_id': ObjectId('66f339770b5d4df30030af40'), 'server_time': datetime.datetime(2018, 10, 21, 1, 53), 'device_type': 'android', 'session_id': 182390, 'user_id': 10613, 'item_id': 132865}\n",
      "{'_id': ObjectId('66f339fa0b5d4df3005aa751'), 'server_time': datetime.datetime(2018, 12, 10, 23, 20), 'device_type': 'android', 'session_id': 1026181, 'user_id': 10947, 'item_id': 132862}\n",
      "{'_id': ObjectId('66f339740b5d4df3002f9476'), 'server_time': datetime.datetime(2018, 10, 19, 13, 20), 'device_type': 'android', 'session_id': 765138, 'user_id': 17953, 'item_id': 132863}\n",
      "{'_id': ObjectId('66f339890b5d4df300368865'), 'server_time': datetime.datetime(2018, 10, 29, 1, 28), 'device_type': 'android', 'session_id': 366483, 'user_id': 39439, 'item_id': 132863}\n",
      "{'_id': ObjectId('66f339730b5d4df3002f7e4a'), 'server_time': datetime.datetime(2018, 10, 19, 8, 17), 'device_type': 'android', 'session_id': 393715, 'user_id': 72077, 'item_id': 132863}\n",
      "{'_id': ObjectId('66f339730b5d4df3002f7e4d'), 'server_time': datetime.datetime(2018, 10, 19, 8, 18), 'device_type': 'android', 'session_id': 393715, 'user_id': 72077, 'item_id': 132863}\n",
      "{'_id': ObjectId('66f339730b5d4df3002f7e41'), 'server_time': datetime.datetime(2018, 10, 19, 8, 17), 'device_type': 'android', 'session_id': 393715, 'user_id': 72077, 'item_id': 132863}\n",
      "{'_id': ObjectId('66f339730b5d4df3002f7e4b'), 'server_time': datetime.datetime(2018, 10, 19, 8, 18), 'device_type': 'android', 'session_id': 393715, 'user_id': 72077, 'item_id': 132863}\n",
      "{'_id': ObjectId('66f3396c0b5d4df3002d19bc'), 'server_time': datetime.datetime(2018, 10, 16, 4, 0), 'device_type': 'android', 'session_id': 441771, 'user_id': 77712, 'item_id': 132863}\n",
      "{'_id': ObjectId('66f3396c0b5d4df3002d19cc'), 'server_time': datetime.datetime(2018, 10, 16, 4, 1), 'device_type': 'android', 'session_id': 441771, 'user_id': 77712, 'item_id': 132863}\n",
      "{'_id': ObjectId('66f3399b0b5d4df3003c93ae'), 'server_time': datetime.datetime(2018, 11, 5, 19, 1), 'device_type': 'android', 'session_id': 1044634, 'user_id': 79451, 'item_id': 132863}\n",
      "{'_id': ObjectId('66f339840b5d4df30034d258'), 'server_time': datetime.datetime(2018, 10, 26, 15, 49), 'device_type': 'android', 'session_id': 98175, 'user_id': 82021, 'item_id': 132863}\n",
      "{'_id': ObjectId('66f339840b5d4df30034d27b'), 'server_time': datetime.datetime(2018, 10, 26, 15, 51), 'device_type': 'android', 'session_id': 98175, 'user_id': 82021, 'item_id': 132863}\n",
      "{'_id': ObjectId('66f339840b5d4df30034d2aa'), 'server_time': datetime.datetime(2018, 10, 26, 15, 52), 'device_type': 'android', 'session_id': 98175, 'user_id': 82021, 'item_id': 132863}\n",
      "{'_id': ObjectId('66f3397e0b5d4df30032f244'), 'server_time': datetime.datetime(2018, 10, 24, 0, 11), 'device_type': 'android', 'session_id': 979717, 'user_id': 86898, 'item_id': 132865}\n",
      "{'_id': ObjectId('66f3397e0b5d4df30032fb0b'), 'server_time': datetime.datetime(2018, 10, 24, 0, 48), 'device_type': 'android', 'session_id': 979717, 'user_id': 86898, 'item_id': 132865}\n",
      "{'_id': ObjectId('66f339740b5d4df3002fa5d2'), 'server_time': datetime.datetime(2018, 10, 19, 15, 4), 'device_type': 'android', 'session_id': 737021, 'user_id': 91566, 'item_id': 132865}\n"
     ]
    }
   ],
   "source": [
    "pipeline = [\n",
    "    {\n",
    "        \"$match\": {\n",
    "            \"device_type\": \"android\"  # First match for device_type\n",
    "        }\n",
    "    },\n",
    "    {\n",
    "        \"$sort\": {\n",
    "            \"user_id\": 1  # Sort by user_id in ascending order\n",
    "        }\n",
    "    },\n",
    "    {\n",
    "        \"$match\": {\n",
    "            \"item_id\": {\n",
    "                \"$gt\": 132861  # Second match for item_id greater than 1000\n",
    "            }\n",
    "        }\n",
    "    }\n",
    "]\n",
    "\n",
    "result = collection2.aggregate(pipeline)\n",
    "\n",
    "for doc in result:\n",
    "    print(doc)  # Print the resulting documents"
   ]
  },
  {
   "cell_type": "code",
   "execution_count": null,
   "metadata": {},
   "outputs": [],
   "source": []
  }
 ],
 "metadata": {
  "kernelspec": {
   "display_name": "Python 3",
   "language": "python",
   "name": "python3"
  },
  "language_info": {
   "codemirror_mode": {
    "name": "ipython",
    "version": 3
   },
   "file_extension": ".py",
   "mimetype": "text/x-python",
   "name": "python",
   "nbconvert_exporter": "python",
   "pygments_lexer": "ipython3",
   "version": "3.12.4"
  }
 },
 "nbformat": 4,
 "nbformat_minor": 2
}
