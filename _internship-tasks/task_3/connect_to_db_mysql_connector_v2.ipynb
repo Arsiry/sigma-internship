{
 "cells": [
  {
   "cell_type": "code",
   "execution_count": 1,
   "metadata": {},
   "outputs": [],
   "source": [
    "import mysql.connector\n",
    "from mysql.connector import Error\n",
    "\n",
    "import pandas as pd\n",
    "\n",
    "import csv"
   ]
  },
  {
   "cell_type": "code",
   "execution_count": 2,
   "metadata": {},
   "outputs": [],
   "source": [
    "# Define your connection parameters\n",
    "host = 'svc-f4f9acbe-4071-4887-bec1-7685aef5c9a4-dml.aws-oregon-3.svc.singlestore.com'\n",
    "user = 'admin'\n",
    "password = 'Sunday12345!'\n",
    "database = 'adtech'\n",
    "port = 3306"
   ]
  },
  {
   "cell_type": "code",
   "execution_count": 3,
   "metadata": {},
   "outputs": [],
   "source": [
    "def connect_to_db():\n",
    "    \"\"\"Establish connection to the database and return the connection object.\"\"\"\n",
    "    try:\n",
    "        connection = mysql.connector.connect(\n",
    "            host=host,\n",
    "            user=user,\n",
    "            password=password,\n",
    "            database=database,\n",
    "            port=port\n",
    "        )\n",
    "        if connection.is_connected():\n",
    "            print(\"Connection to SingleStore was successful.\")\n",
    "        return connection\n",
    "    except Error as e:\n",
    "        print(f\"Error while connecting to SingleStore: {e}\")\n",
    "        return None"
   ]
  },
  {
   "cell_type": "code",
   "execution_count": 4,
   "metadata": {},
   "outputs": [],
   "source": [
    "def execute_query(connection, query):\n",
    "    \"\"\"Execute a SQL query and return the fetched results and column names.\"\"\"\n",
    "    cursor = connection.cursor()\n",
    "    cursor.execute(query)\n",
    "    results = cursor.fetchall()\n",
    "    columns = [i[0] for i in cursor.description]\n",
    "    cursor.close()\n",
    "    return results, columns"
   ]
  },
  {
   "cell_type": "code",
   "execution_count": 5,
   "metadata": {},
   "outputs": [],
   "source": [
    "def save_to_csv(filename, columns, data):\n",
    "    \"\"\"Save the query results to a CSV file.\"\"\"\n",
    "    with open(filename, mode='w', newline='', encoding='utf-8') as file:\n",
    "        writer = csv.writer(file)\n",
    "        writer.writerow(columns)\n",
    "        writer.writerows(data)\n",
    "    print(f\"Data has been successfully saved to '{filename}'.\")"
   ]
  },
  {
   "cell_type": "code",
   "execution_count": 6,
   "metadata": {},
   "outputs": [],
   "source": [
    "def close_connection(connection):\n",
    "    \"\"\"Close the database connection.\"\"\"\n",
    "    if connection.is_connected():\n",
    "        connection.close()\n",
    "        print(\"Connection closed.\")"
   ]
  },
  {
   "cell_type": "code",
   "execution_count": 7,
   "metadata": {},
   "outputs": [],
   "source": [
    "def fetch_and_save_table_data(table_name):\n",
    "    \"\"\"Fetch data from the specified table and save it to a CSV.\"\"\"\n",
    "    connection = connect_to_db()\n",
    "    if connection:\n",
    "        query = f\"SELECT * FROM {table_name}\"\n",
    "        results, columns = execute_query(connection, query)\n",
    "        save_to_csv(f'{table_name}_data.csv', columns, results)\n",
    "        close_connection(connection)"
   ]
  },
  {
   "cell_type": "code",
   "execution_count": 8,
   "metadata": {},
   "outputs": [
    {
     "name": "stdout",
     "output_type": "stream",
     "text": [
      "Connection to SingleStore was successful.\n",
      "Data has been successfully saved to 'campaigns_data.csv'.\n",
      "Connection closed.\n",
      "Connection to SingleStore was successful.\n",
      "Data has been successfully saved to 'events_data.csv'.\n",
      "Connection closed.\n"
     ]
    }
   ],
   "source": [
    "# Fetch and save data from both tables\n",
    "fetch_and_save_table_data('campaigns')\n",
    "fetch_and_save_table_data('events')"
   ]
  },
  {
   "cell_type": "code",
   "execution_count": 9,
   "metadata": {},
   "outputs": [],
   "source": [
    "data_campaigns = pd.read_csv('campaigns_data.csv')\n",
    "data_events = pd.read_csv('events_data.csv')"
   ]
  },
  {
   "cell_type": "code",
   "execution_count": 10,
   "metadata": {},
   "outputs": [
    {
     "data": {
      "text/html": [
       "<div>\n",
       "<style scoped>\n",
       "    .dataframe tbody tr th:only-of-type {\n",
       "        vertical-align: middle;\n",
       "    }\n",
       "\n",
       "    .dataframe tbody tr th {\n",
       "        vertical-align: top;\n",
       "    }\n",
       "\n",
       "    .dataframe thead th {\n",
       "        text-align: right;\n",
       "    }\n",
       "</style>\n",
       "<table border=\"1\" class=\"dataframe\">\n",
       "  <thead>\n",
       "    <tr style=\"text-align: right;\">\n",
       "      <th></th>\n",
       "      <th>campaign_id</th>\n",
       "      <th>campaign_name</th>\n",
       "    </tr>\n",
       "  </thead>\n",
       "  <tbody>\n",
       "    <tr>\n",
       "      <th>0</th>\n",
       "      <td>1</td>\n",
       "      <td>demand great</td>\n",
       "    </tr>\n",
       "    <tr>\n",
       "      <th>1</th>\n",
       "      <td>2</td>\n",
       "      <td>blackout</td>\n",
       "    </tr>\n",
       "    <tr>\n",
       "      <th>2</th>\n",
       "      <td>3</td>\n",
       "      <td>flame broiled</td>\n",
       "    </tr>\n",
       "    <tr>\n",
       "      <th>3</th>\n",
       "      <td>4</td>\n",
       "      <td>take it from a fish</td>\n",
       "    </tr>\n",
       "    <tr>\n",
       "      <th>4</th>\n",
       "      <td>5</td>\n",
       "      <td>thank you</td>\n",
       "    </tr>\n",
       "  </tbody>\n",
       "</table>\n",
       "</div>"
      ],
      "text/plain": [
       "   campaign_id        campaign_name\n",
       "0            1         demand great\n",
       "1            2             blackout\n",
       "2            3        flame broiled\n",
       "3            4  take it from a fish\n",
       "4            5            thank you"
      ]
     },
     "execution_count": 10,
     "metadata": {},
     "output_type": "execute_result"
    }
   ],
   "source": [
    "data_campaigns.head()"
   ]
  },
  {
   "cell_type": "code",
   "execution_count": 11,
   "metadata": {},
   "outputs": [
    {
     "data": {
      "text/html": [
       "<div>\n",
       "<style scoped>\n",
       "    .dataframe tbody tr th:only-of-type {\n",
       "        vertical-align: middle;\n",
       "    }\n",
       "\n",
       "    .dataframe tbody tr th {\n",
       "        vertical-align: top;\n",
       "    }\n",
       "\n",
       "    .dataframe thead th {\n",
       "        text-align: right;\n",
       "    }\n",
       "</style>\n",
       "<table border=\"1\" class=\"dataframe\">\n",
       "  <thead>\n",
       "    <tr style=\"text-align: right;\">\n",
       "      <th></th>\n",
       "      <th>user_id</th>\n",
       "      <th>event_name</th>\n",
       "      <th>advertiser</th>\n",
       "      <th>campaign</th>\n",
       "      <th>gender</th>\n",
       "      <th>income</th>\n",
       "      <th>page_url</th>\n",
       "      <th>region</th>\n",
       "      <th>country</th>\n",
       "    </tr>\n",
       "  </thead>\n",
       "  <tbody>\n",
       "    <tr>\n",
       "      <th>0</th>\n",
       "      <td>1024542728</td>\n",
       "      <td>Downstream Conversion</td>\n",
       "      <td>Costco</td>\n",
       "      <td>5</td>\n",
       "      <td>Male</td>\n",
       "      <td>unknown</td>\n",
       "      <td>/2016/03/18-best-paper-plant-tutorials.html/10/</td>\n",
       "      <td>Washington</td>\n",
       "      <td>US</td>\n",
       "    </tr>\n",
       "    <tr>\n",
       "      <th>1</th>\n",
       "      <td>1024542728</td>\n",
       "      <td>Impression</td>\n",
       "      <td>Costco</td>\n",
       "      <td>5</td>\n",
       "      <td>Male</td>\n",
       "      <td>unknown</td>\n",
       "      <td>/2016/03/18-best-paper-plant-tutorials.html/10/</td>\n",
       "      <td>Washington</td>\n",
       "      <td>US</td>\n",
       "    </tr>\n",
       "    <tr>\n",
       "      <th>2</th>\n",
       "      <td>1024542728</td>\n",
       "      <td>Impression</td>\n",
       "      <td>Costco</td>\n",
       "      <td>6</td>\n",
       "      <td>Male</td>\n",
       "      <td>unknown</td>\n",
       "      <td>/</td>\n",
       "      <td>Washington</td>\n",
       "      <td>US</td>\n",
       "    </tr>\n",
       "    <tr>\n",
       "      <th>3</th>\n",
       "      <td>1024542728</td>\n",
       "      <td>Impression</td>\n",
       "      <td>Costco</td>\n",
       "      <td>9</td>\n",
       "      <td>Male</td>\n",
       "      <td>unknown</td>\n",
       "      <td>/2010/11/let-me-make-you-some-giant-paper-flow...</td>\n",
       "      <td>Washington</td>\n",
       "      <td>US</td>\n",
       "    </tr>\n",
       "    <tr>\n",
       "      <th>4</th>\n",
       "      <td>1024542728</td>\n",
       "      <td>Impression</td>\n",
       "      <td>Costco</td>\n",
       "      <td>9</td>\n",
       "      <td>Male</td>\n",
       "      <td>unknown</td>\n",
       "      <td>/2016/05/diy-frida-kahlo-head-vase.html/#more-...</td>\n",
       "      <td>Washington</td>\n",
       "      <td>US</td>\n",
       "    </tr>\n",
       "  </tbody>\n",
       "</table>\n",
       "</div>"
      ],
      "text/plain": [
       "      user_id             event_name advertiser  campaign gender   income  \\\n",
       "0  1024542728  Downstream Conversion     Costco         5   Male  unknown   \n",
       "1  1024542728             Impression     Costco         5   Male  unknown   \n",
       "2  1024542728             Impression     Costco         6   Male  unknown   \n",
       "3  1024542728             Impression     Costco         9   Male  unknown   \n",
       "4  1024542728             Impression     Costco         9   Male  unknown   \n",
       "\n",
       "                                            page_url      region country  \n",
       "0    /2016/03/18-best-paper-plant-tutorials.html/10/  Washington      US  \n",
       "1    /2016/03/18-best-paper-plant-tutorials.html/10/  Washington      US  \n",
       "2                                                  /  Washington      US  \n",
       "3  /2010/11/let-me-make-you-some-giant-paper-flow...  Washington      US  \n",
       "4  /2016/05/diy-frida-kahlo-head-vase.html/#more-...  Washington      US  "
      ]
     },
     "execution_count": 11,
     "metadata": {},
     "output_type": "execute_result"
    }
   ],
   "source": [
    "data_events.head()"
   ]
  },
  {
   "cell_type": "code",
   "execution_count": null,
   "metadata": {},
   "outputs": [],
   "source": []
  }
 ],
 "metadata": {
  "kernelspec": {
   "display_name": "Python 3",
   "language": "python",
   "name": "python3"
  },
  "language_info": {
   "codemirror_mode": {
    "name": "ipython",
    "version": 3
   },
   "file_extension": ".py",
   "mimetype": "text/x-python",
   "name": "python",
   "nbconvert_exporter": "python",
   "pygments_lexer": "ipython3",
   "version": "3.12.4"
  }
 },
 "nbformat": 4,
 "nbformat_minor": 2
}
