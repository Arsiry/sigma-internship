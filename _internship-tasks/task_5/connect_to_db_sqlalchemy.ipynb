{
 "cells": [
  {
   "cell_type": "code",
   "execution_count": 1,
   "metadata": {},
   "outputs": [],
   "source": [
    "from sqlalchemy import create_engine, text"
   ]
  },
  {
   "cell_type": "code",
   "execution_count": 2,
   "metadata": {},
   "outputs": [],
   "source": [
    "# Define your database connection URL\n",
    "DATABASE_URL = \"postgresql+psycopg2://anastasiiatrofymova@localhost:5432/ad-tech\"\n",
    "\n",
    "# Create a SQLAlchemy engine\n",
    "engine = create_engine(DATABASE_URL)\n"
   ]
  },
  {
   "cell_type": "code",
   "execution_count": 3,
   "metadata": {},
   "outputs": [],
   "source": [
    "def execute_sql_query(engine, sql_query):\n",
    "    # Connect to the database and execute the query\n",
    "    with engine.connect() as connection:\n",
    "        result = connection.execute(text(sql_query))\n",
    "\n",
    "        # Fetch all results\n",
    "        results = result.fetchall()\n",
    "\n",
    "        if results:\n",
    "            print(f\"📊 Query executed successfully! Here are the results:\\n\")\n",
    "\n",
    "            # Print the results row by row\n",
    "            for row in results:\n",
    "                print('\\t'.join(str(value) for value in row))  # Using tab ('\\t') for separation\n",
    "        else:\n",
    "            print(\"⚠️ No results found matching the criteria.\")"
   ]
  },
  {
   "cell_type": "code",
   "execution_count": 4,
   "metadata": {},
   "outputs": [
    {
     "name": "stdout",
     "output_type": "stream",
     "text": [
      "📊 Query executed successfully! Here are the results:\n",
      "\n",
      "10862\n"
     ]
    }
   ],
   "source": [
    "# Define your SQL query. Count clicks in the impressions table.\n",
    "sql_query = \"\"\"\n",
    "SELECT count(*)\n",
    "  FROM impressions \n",
    " WHERE is_click=1;\n",
    "\"\"\"\n",
    "\n",
    "execute_sql_query(engine, sql_query)"
   ]
  },
  {
   "cell_type": "code",
   "execution_count": 5,
   "metadata": {},
   "outputs": [
    {
     "name": "stdout",
     "output_type": "stream",
     "text": [
      "📊 Query executed successfully! Here are the results:\n",
      "\n",
      "intermediate\n",
      "latest\n",
      "old\n"
     ]
    }
   ],
   "source": [
    "# Define your SQL query. Get distinct OS versions.\n",
    "sql_query = \"\"\"\n",
    "SELECT DISTINCT os_version\n",
    "  FROM impressions;\n",
    "\"\"\"\n",
    "\n",
    "execute_sql_query(engine, sql_query)"
   ]
  },
  {
   "cell_type": "code",
   "execution_count": 6,
   "metadata": {},
   "outputs": [
    {
     "name": "stdout",
     "output_type": "stream",
     "text": [
      "📊 Query executed successfully! Here are the results:\n",
      "\n",
      "0\tintermediate\t1923\n",
      "0\tlatest\t3201\n",
      "0\told\t1896\n"
     ]
    }
   ],
   "source": [
    "# Define your SQL query. Sum clicks for 4G-disabled devices by OS version.\n",
    "sql_query = \"\"\"\n",
    "SELECT is_4G, os_version, sum(is_click) as countClick\n",
    "  FROM impressions\n",
    "GROUP BY is_4G, os_version\n",
    "HAVING is_4G=0;\n",
    "\"\"\"\n",
    "\n",
    "execute_sql_query(engine, sql_query)"
   ]
  },
  {
   "cell_type": "code",
   "execution_count": 7,
   "metadata": {},
   "outputs": [
    {
     "name": "stdout",
     "output_type": "stream",
     "text": [
      "📊 Query executed successfully! Here are the results:\n",
      "\n",
      "508\t132\n",
      "504\t47\n",
      "509\t27\n",
      "512\t23\n",
      "507\t14\n",
      "522\t6\n",
      "503\t5\n",
      "505\t4\n",
      "514\t4\n",
      "513\t3\n",
      "521\t2\n",
      "519\t1\n",
      "520\t1\n",
      "517\t1\n",
      "518\t0\n",
      "502\t0\n",
      "506\t0\n",
      "510\t0\n",
      "515\t0\n",
      "516\t0\n"
     ]
    }
   ],
   "source": [
    "# Define your SQL query. Sum clicks for apps with app_code > 500.\n",
    "sql_query = \"\"\"\n",
    "SELECT app_code, sum(is_click) as countClick\n",
    "  FROM impressions\n",
    "GROUP BY app_code\n",
    "HAVING app_code>500\n",
    "ORDER BY sum(is_click) DESC;\n",
    "\"\"\"\n",
    "\n",
    "execute_sql_query(engine, sql_query)"
   ]
  },
  {
   "cell_type": "code",
   "execution_count": 8,
   "metadata": {},
   "outputs": [
    {
     "name": "stdout",
     "output_type": "stream",
     "text": [
      "📊 Query executed successfully! Here are the results:\n",
      "\n",
      "3364\t10\n",
      "52737\t10\n",
      "64389\t10\n",
      "37747\t10\n",
      "90953\t10\n"
     ]
    }
   ],
   "source": [
    "# Define your SQL query. Find users with exactly 10 clicks.\n",
    "sql_query = \"\"\"\n",
    "SELECT user_id, sum(is_click) as countClick\n",
    "  FROM impressions\n",
    "GROUP BY user_id\n",
    "HAVING sum(is_click)=10;\n",
    "\"\"\"\n",
    "\n",
    "execute_sql_query(engine, sql_query)"
   ]
  },
  {
   "cell_type": "code",
   "execution_count": 9,
   "metadata": {},
   "outputs": [
    {
     "name": "stdout",
     "output_type": "stream",
     "text": [
      "📊 Query executed successfully! Here are the results:\n",
      "\n",
      "2018-10-16 00:00:00\tandroid\t441771\t77712\t132863\n",
      "2018-10-16 00:01:00\tandroid\t441771\t77712\t132863\n",
      "2018-10-19 04:17:00\tandroid\t393715\t72077\t132863\n",
      "2018-10-19 04:17:00\tandroid\t393715\t72077\t132863\n",
      "2018-10-19 04:18:00\tandroid\t393715\t72077\t132863\n",
      "2018-10-19 04:18:00\tandroid\t393715\t72077\t132863\n",
      "2018-10-19 09:20:00\tandroid\t765138\t17953\t132863\n",
      "2018-10-23 20:11:00\tandroid\t979717\t86898\t132865\n",
      "2018-11-05 14:01:00\tandroid\t1044634\t79451\t132863\n",
      "2018-11-17 16:15:00\tandroid\t699238\t111\t132864\n",
      "2018-10-20 21:53:00\tandroid\t182390\t10613\t132865\n",
      "2018-10-23 20:48:00\tandroid\t979717\t86898\t132865\n",
      "2018-10-18 20:05:00\tandroid\t692656\t131\t132865\n",
      "2018-10-19 11:04:00\tandroid\t737021\t91566\t132865\n",
      "2018-10-26 01:48:00\tandroid\t103223\t5822\t132863\n",
      "2018-10-26 11:49:00\tandroid\t98175\t82021\t132863\n",
      "2018-10-26 11:51:00\tandroid\t98175\t82021\t132863\n",
      "2018-10-26 11:52:00\tandroid\t98175\t82021\t132863\n",
      "2018-10-28 21:28:00\tandroid\t366483\t39439\t132863\n",
      "2018-12-10 18:20:00\tandroid\t1026181\t10947\t132862\n"
     ]
    }
   ],
   "source": [
    "# Define your SQL query. Filter view logs for Android devices and items with item_id > 132861.\n",
    "sql_query = \"\"\"\n",
    "SELECT *\n",
    "FROM viewlog\n",
    "WHERE device_type='android' AND item_id>132861;\n",
    "\"\"\"\n",
    "\n",
    "execute_sql_query(engine, sql_query)"
   ]
  },
  {
   "cell_type": "code",
   "execution_count": null,
   "metadata": {},
   "outputs": [],
   "source": []
  }
 ],
 "metadata": {
  "kernelspec": {
   "display_name": "Python 3",
   "language": "python",
   "name": "python3"
  },
  "language_info": {
   "name": "python",
   "version": "3.12.4"
  }
 },
 "nbformat": 4,
 "nbformat_minor": 2
}
