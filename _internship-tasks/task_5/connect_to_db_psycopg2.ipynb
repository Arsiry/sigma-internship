{
 "cells": [
  {
   "cell_type": "code",
   "execution_count": 1,
   "metadata": {},
   "outputs": [],
   "source": [
    "import psycopg2"
   ]
  },
  {
   "cell_type": "code",
   "execution_count": 2,
   "metadata": {},
   "outputs": [],
   "source": [
    "# Define your database connection parameters\n",
    "connection = psycopg2.connect(\n",
    "    host=\"localhost\",        \n",
    "    port=\"5432\",             \n",
    "    database=\"ad-tech\", \n",
    "    user=\"anastasiiatrofymova\",    \n",
    ")"
   ]
  },
  {
   "cell_type": "code",
   "execution_count": 3,
   "metadata": {},
   "outputs": [
    {
     "name": "stdout",
     "output_type": "stream",
     "text": [
      "Connected to PostgreSQL database. Version: ('PostgreSQL 16.4 (Postgres.app) on aarch64-apple-darwin21.6.0, compiled by Apple clang version 14.0.0 (clang-1400.0.29.102), 64-bit',)\n"
     ]
    }
   ],
   "source": [
    "# Create a cursor object to interact with the database\n",
    "cursor = connection.cursor()\n",
    "\n",
    "# Example query to check the connection\n",
    "cursor.execute(\"SELECT version();\")\n",
    "db_version = cursor.fetchone()\n",
    "print(f\"Connected to PostgreSQL database. Version: {db_version}\")"
   ]
  },
  {
   "cell_type": "code",
   "execution_count": 4,
   "metadata": {},
   "outputs": [],
   "source": [
    "def execute_and_print_query(cursor, sql_query):\n",
    "    # Execute the query\n",
    "    cursor.execute(sql_query)\n",
    "\n",
    "    # Fetch all the results\n",
    "    results = cursor.fetchall()\n",
    "\n",
    "    # Print the results\n",
    "    if results:\n",
    "        print(f\"📊 Query executed successfully! Here are the results:\\n\")\n",
    "        \n",
    "        # Print each row\n",
    "        for row in results:\n",
    "            print('\\t'.join(str(value) for value in row))  # Using tab ('\\t') for separation\n",
    "    else:\n",
    "        print(\"⚠️ No results found matching the criteria.\")"
   ]
  },
  {
   "cell_type": "code",
   "execution_count": 5,
   "metadata": {},
   "outputs": [
    {
     "name": "stdout",
     "output_type": "stream",
     "text": [
      "📊 Query executed successfully! Here are the results:\n",
      "\n",
      "10862\n"
     ]
    }
   ],
   "source": [
    "# Define your SQL query\n",
    "sql_query = \"\"\"\n",
    "SELECT count(*)\n",
    "  FROM impressions \n",
    " WHERE is_click=1;\n",
    "\"\"\"\n",
    "\n",
    "execute_and_print_query(cursor, sql_query)"
   ]
  },
  {
   "cell_type": "code",
   "execution_count": 6,
   "metadata": {},
   "outputs": [
    {
     "name": "stdout",
     "output_type": "stream",
     "text": [
      "📊 Query executed successfully! Here are the results:\n",
      "\n",
      "intermediate\n",
      "latest\n",
      "old\n"
     ]
    }
   ],
   "source": [
    "# Define your SQL query\n",
    "sql_query = \"\"\"\n",
    "SELECT DISTINCT os_version\n",
    "  FROM impressions;\n",
    "\"\"\"\n",
    "\n",
    "execute_and_print_query(cursor, sql_query)"
   ]
  },
  {
   "cell_type": "code",
   "execution_count": 7,
   "metadata": {},
   "outputs": [
    {
     "name": "stdout",
     "output_type": "stream",
     "text": [
      "📊 Query executed successfully! Here are the results:\n",
      "\n",
      "0\tintermediate\t1923\n",
      "0\tlatest\t3201\n",
      "0\told\t1896\n"
     ]
    }
   ],
   "source": [
    "# Define your SQL query\n",
    "sql_query = \"\"\"\n",
    "SELECT is_4G, os_version, sum(is_click) as countClick\n",
    "  FROM impressions\n",
    "GROUP BY is_4G, os_version\n",
    "HAVING is_4G=0;\n",
    "\"\"\"\n",
    "\n",
    "execute_and_print_query(cursor, sql_query)"
   ]
  },
  {
   "cell_type": "code",
   "execution_count": 8,
   "metadata": {},
   "outputs": [
    {
     "name": "stdout",
     "output_type": "stream",
     "text": [
      "📊 Query executed successfully! Here are the results:\n",
      "\n",
      "508\t132\n",
      "504\t47\n",
      "509\t27\n",
      "512\t23\n",
      "507\t14\n",
      "522\t6\n",
      "503\t5\n",
      "505\t4\n",
      "514\t4\n",
      "513\t3\n",
      "521\t2\n",
      "519\t1\n",
      "520\t1\n",
      "517\t1\n",
      "518\t0\n",
      "502\t0\n",
      "506\t0\n",
      "510\t0\n",
      "515\t0\n",
      "516\t0\n"
     ]
    }
   ],
   "source": [
    "# Define your SQL query\n",
    "sql_query = \"\"\"\n",
    "SELECT app_code, sum(is_click) as countClick\n",
    "  FROM impressions\n",
    "GROUP BY app_code\n",
    "HAVING app_code>500\n",
    "ORDER BY sum(is_click) DESC;\n",
    "\"\"\"\n",
    "\n",
    "execute_and_print_query(cursor, sql_query)"
   ]
  },
  {
   "cell_type": "code",
   "execution_count": 9,
   "metadata": {},
   "outputs": [
    {
     "name": "stdout",
     "output_type": "stream",
     "text": [
      "📊 Query executed successfully! Here are the results:\n",
      "\n",
      "3364\t10\n",
      "52737\t10\n",
      "64389\t10\n",
      "37747\t10\n",
      "90953\t10\n"
     ]
    }
   ],
   "source": [
    "# Define your SQL query\n",
    "sql_query = \"\"\"\n",
    "SELECT user_id, sum(is_click) as countClick\n",
    "  FROM impressions\n",
    "GROUP BY user_id\n",
    "HAVING sum(is_click)=10;\n",
    "\"\"\"\n",
    "\n",
    "execute_and_print_query(cursor, sql_query)"
   ]
  },
  {
   "cell_type": "code",
   "execution_count": 10,
   "metadata": {},
   "outputs": [
    {
     "name": "stdout",
     "output_type": "stream",
     "text": [
      "📊 Query executed successfully! Here are the results:\n",
      "\n",
      "2018-10-18 20:05:00\tandroid\t692656\t131\t132865\n",
      "2018-10-19 11:04:00\tandroid\t737021\t91566\t132865\n",
      "2018-10-23 20:48:00\tandroid\t979717\t86898\t132865\n",
      "2018-10-26 01:48:00\tandroid\t103223\t5822\t132863\n",
      "2018-11-05 14:01:00\tandroid\t1044634\t79451\t132863\n",
      "2018-11-17 16:15:00\tandroid\t699238\t111\t132864\n",
      "2018-10-19 04:17:00\tandroid\t393715\t72077\t132863\n",
      "2018-10-19 04:17:00\tandroid\t393715\t72077\t132863\n",
      "2018-10-19 04:18:00\tandroid\t393715\t72077\t132863\n",
      "2018-10-19 04:18:00\tandroid\t393715\t72077\t132863\n",
      "2018-10-19 09:20:00\tandroid\t765138\t17953\t132863\n",
      "2018-10-20 21:53:00\tandroid\t182390\t10613\t132865\n",
      "2018-10-23 20:11:00\tandroid\t979717\t86898\t132865\n",
      "2018-10-16 00:00:00\tandroid\t441771\t77712\t132863\n",
      "2018-10-16 00:01:00\tandroid\t441771\t77712\t132863\n",
      "2018-10-26 11:49:00\tandroid\t98175\t82021\t132863\n",
      "2018-10-26 11:51:00\tandroid\t98175\t82021\t132863\n",
      "2018-10-26 11:52:00\tandroid\t98175\t82021\t132863\n",
      "2018-10-28 21:28:00\tandroid\t366483\t39439\t132863\n",
      "2018-12-10 18:20:00\tandroid\t1026181\t10947\t132862\n"
     ]
    }
   ],
   "source": [
    "# Define your SQL query\n",
    "sql_query = \"\"\"\n",
    "SELECT *\n",
    "FROM viewlog\n",
    "WHERE device_type='android' AND item_id>132861;\n",
    "\"\"\"\n",
    "\n",
    "execute_and_print_query(cursor, sql_query)\n"
   ]
  },
  {
   "cell_type": "code",
   "execution_count": 11,
   "metadata": {},
   "outputs": [
    {
     "name": "stdout",
     "output_type": "stream",
     "text": [
      "🔒 Connection to the database has been closed.\n"
     ]
    }
   ],
   "source": [
    "# Close the cursor and the connection\n",
    "cursor.close()\n",
    "connection.close()\n",
    "\n",
    "print(\"🔒 Connection to the database has been closed.\")\n"
   ]
  },
  {
   "cell_type": "code",
   "execution_count": null,
   "metadata": {},
   "outputs": [],
   "source": []
  }
 ],
 "metadata": {
  "kernelspec": {
   "display_name": "Python 3",
   "language": "python",
   "name": "python3"
  },
  "language_info": {
   "codemirror_mode": {
    "name": "ipython",
    "version": 3
   },
   "file_extension": ".py",
   "mimetype": "text/x-python",
   "name": "python",
   "nbconvert_exporter": "python",
   "pygments_lexer": "ipython3",
   "version": "3.12.4"
  }
 },
 "nbformat": 4,
 "nbformat_minor": 2
}
